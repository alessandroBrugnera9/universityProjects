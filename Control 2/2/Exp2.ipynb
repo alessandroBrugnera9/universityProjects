{
 "cells": [
  {
   "cell_type": "markdown",
   "metadata": {},
   "source": [
    "# PMR3409 - Controle II\n",
    "# Experiência 2:  Amostragem e reconstrução de sinais"
   ]
  },
  {
   "cell_type": "markdown",
   "metadata": {},
   "source": [
    "# Identificação\n",
    "\n",
    "**Aluno 1 :** Alessandro Brugnera Silva          **NUSP:** 10334040\n",
    "\n",
    "**Aluno 2 :** Vitor Luiz Lima Carazzi       **NUSP:** 9834010\n",
    "\n",
    "**Turma de Laboratório:** 5 e 2\n",
    "\n",
    "**Professor:** Newton"
   ]
  },
  {
   "cell_type": "markdown",
   "metadata": {},
   "source": [
    "**OBS: Você deve submeter o seu relatório em um arquivo compactado contendo os seguintes arquivos:**\n",
    "\n",
    "- Arquivo *.ipynb.\n",
    "- Diretório contendo todas as figuras do seu relatório.\n",
    "- Arquivo *.html equivalente ao seu arquivo *.ipynb. Menu: File -> Download as -> HTML"
   ]
  },
  {
   "cell_type": "markdown",
   "metadata": {},
   "source": [
    "## 1- Introdução\n",
    "\n",
    " Nessa Experiência são explorados dois conceitos básicos do curso:\n",
    " - O teorema de Nyquist que constitui ferramenta de análise importante para a escolha do intervalo de amostragem dos sistemas de controle digitais,\n",
    " - e a reconstrução de sinais através do reconstrutor de Ordem-Zero que é o reconstrutor utilizado em controle digital.\n",
    "\n",
    "\n",
    " **Você deve ler o material contido na Apostila 2 e o Tutorial sobre o teorema de Nyquist e recontrução de sinais contido no arquivo TutorialNyquistReconstrucao.html**"
   ]
  },
  {
   "cell_type": "markdown",
   "metadata": {},
   "source": [
    "## 2. Teorema da amostragem\n",
    "\n",
    " \n"
   ]
  },
  {
   "cell_type": "markdown",
   "metadata": {},
   "source": [
    "1-) Estimar o espectro de uma onda senoidal $x(t)$ utilizando o algoritmo FFT com diferentes taxas de amostragem\n",
    "    $f_a$:\n",
    "   \n",
    "- Amostrar a seguinte onda senoidal $x(t) = 2.0 \\sin(2\\pi 40t)$.\n",
    "- Utilize o script abaixo.\n",
    "\n",
    "a-) Utilizar $f_a=400$ amostras/s\n",
    "\n",
    "\n",
    "b-) Utilizar $f_a=200$ amostras/s\n",
    "\n",
    "\n",
    "c-) Utilizar $f_a=80$ amostras/s\n",
    "\n",
    "\n",
    "d-) Utilizar $f_a=60$ amostras/s\n",
    "\n",
    "\n",
    "e-) Utilizar $f_a=50$ amostras/s\n",
    "\n",
    "\n",
    "f-) Utilizar $f_a=40$ amostras/s\n",
    "\n",
    "\n",
    "2-) Preencha a tabela abaixo com os valores obtidos das frequências que foram\n",
    "    observadas no gráfico do Espectro:\n",
    "\n",
    "| taxa de amostragem $f_a$ |freq. observada no gráfico do Espectro |\n",
    "| :-: | :-: |\n",
    "|400|40|\n",
    "|200|40|\n",
    "|80|40|\n",
    "|60|20|\n",
    "|50|10\n",
    "|40|0|\n",
    "\n",
    "3-) Faça uma análise dos resultados obtidos utilizando o Teorema da Amostragem de Nyquist:\n",
    "\n",
    "**As taxas de amostragem inferiores a 80 amostras/s começam a apresentar perda de informação no sinal no sinal reconstruído, isso ocorre pois essas taxas são menores que duas vezes a frequência do sinal original, que é de 40 Hz**\n",
    "\n",
    "4-) Uma maneira de estimar a frequência observada quando um sinal com espectro simples é amostrado com uma\n",
    "determinada taxa de amostragem é através da utilização de desenhos geométricos realizados manualmente.\n",
    "Dentro desse contexto, desenhe o espectro do sinal $x(t) = 2.0 \\sin(2\\pi 40t)$ amostrado com uma\n",
    "taxa de amostragem $f_a=70$ amostras/s. Obs: o processo de amostragem gera infinitos espectros, desenhe o espectro fundamental (região de frequências positivas e negativas) e mais dois espectros, um a direita e outro a esquerda.\n",
    "Indique qual pico corresponde à frequência observada.\n",
    "\n",
    "<img src=\"Imagens/2.4.jpeg\">\n",
    "\n",
    "5-) Idem para $f_a=30$ amostras/s. Obs: note que nesse caso $f_a < f_s$.\n",
    "\n",
    "**< insira a imagem do seu desenho aqui >**\n",
    "\n",
    "<img src=\"Imagens/2.5.jpeg\">\n",
    "\n"
   ]
  },
  {
   "cell_type": "code",
   "execution_count": 1,
   "metadata": {},
   "outputs": [
    {
     "name": "stderr",
     "output_type": "stream",
     "text": [
      "C:\\Users\\vitor\\anaconda3\\lib\\site-packages\\ipykernel_launcher.py:25: DeprecationWarning: Using scipy.fft as a function is deprecated and will be removed in SciPy 1.5.0, use scipy.fft.fft instead.\n"
     ]
    }
   ],
   "source": [
    "#! pip install scipy.fft\n",
    "\n",
    "# Script FFT para Onda Senoidal\n",
    "%matplotlib qt\n",
    "#%matplotlib inline\n",
    "import numpy as np\n",
    "import matplotlib.pyplot as plt\n",
    "from scipy import fft\n",
    "from scipy import signal\n",
    "SampRate = 40                     # Taxa de amostragem\n",
    "T = 1/SampRate                    # Intervalo de amostragem\n",
    "Duracao = 5                      # Duracao da amostragem\n",
    "N = int(Duracao/T)                # Numero de pontos amostrados\n",
    "t = np.linspace(0.0,Duracao-T,N)  # array de tempo\n",
    "# Parametros da onda senoidal\n",
    "A =  2.0                # Amplitude\n",
    "fsignal =  40           # Frequencia do sinal senoidal Hz\n",
    "Phi = 0                 # Angulo de fase em radianos\n",
    "K = 0                   # Constante\n",
    "# Simulacao da amostragem da onda senoidal\n",
    "x = K + A * np.sin(2*np.pi*fsignal*t + Phi)\n",
    "#\n",
    "# Calculo do Espectro\n",
    "#\n",
    "Cn = fft(x)/N;           # Transformada de Fourier Discreta\n",
    "# print(Cn)\n",
    "# Modulo\n",
    "modCn = np.abs(Cn);\n",
    "#\n",
    "# Escala de frequencias para o\n",
    "# grafico do espectro do sinal\n",
    "# Note que a  escala vai de 0 ate a metade\n",
    "# da taxa de amostragem.\n",
    "# A outra metade e' sempre simetrica a primeira.\n",
    "# Verifique o arquivo TutorialFFT.html\n",
    "fm = np.linspace(0.0, 1.0/(2.0*T), N//2)\n",
    "#\n",
    "# Utilizacao de subplots\n",
    "# Utiliza-se graficos do tipo \"stem\"\n",
    "# mais adequados para o espectro\n",
    "#plt.figure(1)\n",
    "plt.figure(figsize=(8,5))\n",
    "plt.subplots_adjust(hspace=0.8)\n",
    "plt.subplot(211)\n",
    "fim = 50\n",
    "plt.stem(t[1:fim],x[1:fim],use_line_collection=True)\n",
    "plt.xlabel('tempo (s)')\n",
    "plt.ylabel('Tensao (V)')\n",
    "plt.grid()\n",
    "plt.subplot(212)\n",
    "plt.stem(fm, modCn[0:N//2],use_line_collection=True)\n",
    "plt.xlabel('Freq (Hz)')\n",
    "plt.ylabel('|Cn|')\n",
    "plt.grid()"
   ]
  },
  {
   "cell_type": "markdown",
   "metadata": {},
   "source": [
    "## 3. Reconstrução de sinais "
   ]
  },
  {
   "cell_type": "markdown",
   "metadata": {},
   "source": [
    "1-) Seja  o sinal senoidal dado por $x(t) = 2.0 \\sin(2\\pi 5t)$.\n",
    "    Amostre o sinal $x(t)$ utilizando uma taxa de amostragem igual a $f_v=50$ amostras/s.\n",
    "    \n",
    "Elaborar um código na linguagem Python **(desenvolva o código na célula abaixo)** que gera um gráfico único contendo o sinal $x(t)$, os pontos amostrados de $x(t)$ representados pelo símbolo 'o' e a função $g(t)$ que representa uma função de tempo contínuo que é obtida a partir dos pontos amostrados e um reconstrutor de Ordem-Zero. Faça um gráfico com apenas 2 ciclos de onda senoidal.\n",
    "\n",
    "**< insira a imagem do gráfico aqui >**   \n",
    "\n",
    "\n",
    "2-) Calcule o erro quadrático médio entre a função que implementa o reconstrutor de ordem zero $g(t)$\n",
    "    e a função senoidal $x(t)$. Obs: amostrar as funções $g(t)$ e $x(t)$ com uma taxa de amostragem $f_a=500$ amostras/s e calcular o erro qudrático médio com essas amostras.\n",
    "\t      \n",
    "**Resposta:     MSE = 0.007853817200909222**\n",
    "\n",
    "3-) A utilização da função de reconstrução de ordem zero $g(t)$ modifica\n",
    "    o espectro de frequência do sinal senoidal original $x(t)$.\n",
    "    Sob o ponto de vista da malha de controle digital significa que o controlador injeta frequências\n",
    "    distintas na planta quando comparado com a malha de controle de tempo contínuo.\n",
    "    \n",
    "Estimar o espectro de frequências da função $g(t)$\n",
    "          \n",
    "**< insira a imagem do gráfico aqui >**           \n",
    "\n",
    "<img src=\"Imagens/33.PNG\">"
   ]
  },
  {
   "cell_type": "code",
   "execution_count": 9,
   "metadata": {},
   "outputs": [
    {
     "data": {
      "image/png": "[encoded data removed]",
      "text/plain": [
       "<Figure size 432x288 with 1 Axes>"
      ]
     },
     "metadata": {
      "needs_background": "light"
     },
     "output_type": "display_data"
    }
   ],
   "source": [
    "# Desenvolva o seu código aqui\n",
    "import numpy as np\n",
    "import matplotlib.pyplot as plt\n",
    "from scipy.interpolate import interp1d\n",
    "\n",
    "def x(t):\n",
    "    return(2*np.sin(2*np.pi*5*t))\n",
    "\n",
    "def zeroHold(t, deltaT):\n",
    "    return(2*np.sin(2*np.pi*5*(t-deltaT)))\n",
    "\n",
    "t=0\n",
    "coor = []\n",
    "absc = []\n",
    "coor.append(x(t))\n",
    "absc.append(t)\n",
    "limiteT=.4\n",
    "while t < limiteT:\n",
    "    t += 0.02\n",
    "    coor.append(x(t))\n",
    "    absc.append(t)\n",
    "\n",
    "plt.scatter(absc,coor)\n",
    "\n",
    "new = np.linspace(0, 0.4, num=21, endpoint=True)\n",
    "f = interp1d(new, coor, kind='previous')\n",
    "\n",
    "new = np.linspace(0, 0.4, num=2001, endpoint=True)\n",
    "\n",
    "plt.plot(new, f(new), '-')\n",
    "\n",
    "plt.xlabel('tempo - segundos')\n",
    "plt.ylabel('sinal')\n",
    "\n",
    "plt.show()"
   ]
  },
  {
   "cell_type": "code",
   "execution_count": 4,
   "metadata": {},
   "outputs": [
    {
     "name": "stdout",
     "output_type": "stream",
     "text": [
      "0.007853817200909222\n"
     ]
    }
   ],
   "source": [
    "# Desenvolva o seu código aqui\n",
    "import numpy as np\n",
    "import matplotlib.pyplot as plt\n",
    "from scipy.interpolate import interp1d\n",
    "\n",
    "def x(t):\n",
    "    return(2*np.sin(2*np.pi*5*t))\n",
    "\n",
    "def zeroHold(t, deltaT):\n",
    "    return(2*np.sin(2*np.pi*5*(t-deltaT)))\n",
    "\n",
    "t=0\n",
    "deltaT = 0.002\n",
    "yZeroH = [0]\n",
    "ySignal = [0]\n",
    "xLista = [0]\n",
    "\n",
    "limiteT=.4\n",
    "while t < limiteT:\n",
    "    t += deltaT\n",
    "    yZeroH.append(zeroHold(t, deltaT))\n",
    "    ySignal.append(x(t))\n",
    "    xLista.append(t)\n",
    "    \n",
    "\n",
    "print(np.square(np.subtract(yZeroH,ySignal)).mean())"
   ]
  },
  {
   "cell_type": "code",
   "execution_count": 7,
   "metadata": {},
   "outputs": [
    {
     "data": {
      "image/png": "[encoded data removed]",
      "text/plain": [
       "<Figure size 1440x1080 with 1 Axes>"
      ]
     },
     "metadata": {
      "needs_background": "light"
     },
     "output_type": "display_data"
    }
   ],
   "source": [
    "from scipy import fft\n",
    "import numpy as np\n",
    "\n",
    "N        = 200\n",
    "SampRate = 500 # Taxa de amostragem\n",
    "T        = 1/SampRate # Intervalo de amostragem\n",
    "tTotal  = 0.4 # Duracao da amostragem\n",
    "N        = int(tTotal/T) # Amostragem\n",
    "\n",
    "Cn       = fft.fft(yZeroH)/N;  # Transformada de Fourier Discreta\n",
    "\n",
    "# Modulo\n",
    "modCn = np.abs(Cn);\n",
    "\n",
    "fm = np.linspace(0.0, 1.0/(2.0*T), N//2)\n",
    "\n",
    "plt.figure(figsize=(20,15))\n",
    "plt.subplots_adjust(hspace=0.8)\n",
    "plt.subplot(211)\n",
    "plt.stem(fm, modCn[0:N//2],use_line_collection=True)\n",
    "plt.xlabel('Frequência - Hertz')\n",
    "plt.ylabel('|Cn|')\n",
    "plt.savefig('33.png')\n",
    "plt.grid()"
   ]
  },
  {
   "cell_type": "markdown",
   "metadata": {},
   "source": [
    "## 4. Discussões"
   ]
  },
  {
   "cell_type": "markdown",
   "metadata": {},
   "source": [
    "## 5. Conclusões"
   ]
  }
 ],
 "metadata": {
  "kernelspec": {
   "display_name": "Python 3",
   "language": "python",
   "name": "python3"
  },
  "language_info": {
   "codemirror_mode": {
    "name": "ipython",
    "version": 3
   },
   "file_extension": ".py",
   "mimetype": "text/x-python",
   "name": "python",
   "nbconvert_exporter": "python",
   "pygments_lexer": "ipython3",
   "version": "3.8.5"
  }
 },
 "nbformat": 4,
 "nbformat_minor": 4
}
